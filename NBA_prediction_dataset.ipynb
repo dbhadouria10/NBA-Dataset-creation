{
  "nbformat": 4,
  "nbformat_minor": 0,
  "metadata": {
    "colab": {
      "provenance": []
    },
    "kernelspec": {
      "name": "python3",
      "display_name": "Python 3"
    },
    "language_info": {
      "name": "python"
    }
  },
  "cells": [
    {
      "cell_type": "markdown",
      "source": [
        "### Project submission group\n",
        "- Group member 1\n",
        "    - Name: Joe Becker\n",
        "    - Email: jb4575@drexel.edu\n",
        "- Group member 2\n",
        "    - Name: Christian Ekwomadu\n",
        "    - Email: cce49@drexel.edu\n",
        "- Group member 3\n",
        "    - Name: Deepak Bhadouria\n",
        "    - Email: db3533@drexel.edu\n",
        "- Group member 4\n",
        "    - Name: Surya Samarth J\n",
        "    - Email: sj3244@drexel.edu"
      ],
      "metadata": {
        "id": "rCFK7DnbRJZx"
      }
    },
    {
      "cell_type": "code",
      "source": [
        "from google.colab import drive\n",
        "drive.mount('/content/drive')"
      ],
      "metadata": {
        "colab": {
          "base_uri": "https://localhost:8080/"
        },
        "id": "VozmxlnqrqR_",
        "outputId": "5112faac-5f16-44f7-f025-7a19e89ebe8a"
      },
      "execution_count": null,
      "outputs": [
        {
          "output_type": "stream",
          "name": "stdout",
          "text": [
            "Mounted at /content/drive\n"
          ]
        }
      ]
    },
    {
      "cell_type": "code",
      "source": [
        "import requests\n",
        "import time\n",
        "import csv\n",
        "import re\n",
        "from collections import defaultdict"
      ],
      "metadata": {
        "id": "nNKk7eCWyc1k"
      },
      "execution_count": null,
      "outputs": []
    },
    {
      "cell_type": "markdown",
      "source": [
        "# Sport Radar Script"
      ],
      "metadata": {
        "id": "dg8U1ImfyDo1"
      }
    },
    {
      "cell_type": "code",
      "source": [
        "access_level = \"trial\"\n",
        "version = \"v7\"\n",
        "language_code = \"en\"\n",
        "season_year = \"2022\"\n",
        "nba_season = \"REG\"\n",
        "format_var = \"json\"\n",
        "your_api_key = \"[YOUR API KEY]\"\n",
        "\n",
        "def get_team_json_resp(season_year, access_level, version, language_code, nba_season, format_var, your_api_key):\n",
        "\n",
        "  team_id_url = f\"https://api.sportradar.us/nba/{access_level}/{version}/{language_code}/seasons/{season_year}/{nba_season}/rankings.{format_var}?api_key={your_api_key}\"\n",
        "\n",
        "  return requests.get(team_id_url).json()\n",
        "\n",
        "def get_seas_json_resp(season_year, access_level, version, language_code, nba_season, format_var, your_api_key):\n",
        "\n",
        "  seas_stat_url = f\"https://api.sportradar.us/nba/{access_level}/{version}/{language_code}/seasons/{season_year}/{nba_season}/teams/{t_id}/statistics.{format_var}?api_key={your_api_key}\"\n",
        "\n",
        "  return requests.get(seas_stat_url).json()"
      ],
      "metadata": {
        "id": "65EaQ39bDjvQ"
      },
      "execution_count": null,
      "outputs": []
    },
    {
      "cell_type": "code",
      "execution_count": null,
      "metadata": {
        "id": "HR-8sKjfjwLx",
        "colab": {
          "base_uri": "https://localhost:8080/"
        },
        "outputId": "4cbc3bda-144a-4eea-9bf3-99a59b8f3be7"
      },
      "outputs": [
        {
          "output_type": "stream",
          "name": "stdout",
          "text": [
            "Script returned 30 total teams and 506 total players.\n"
          ]
        }
      ],
      "source": [
        "team_ids = []\n",
        "seas_team_avgs = []\n",
        "seas_plyr_avgs = []\n",
        "\n",
        "team_count = 0\n",
        "plyr_count = 0\n",
        "\n",
        "team_id_resp = get_team_json_resp(season_year, access_level, version, language_code, nba_season, format_var, your_api_key)\n",
        "\n",
        "# Get list of teams for use in 2nd loop\n",
        "for key in team_id_resp:\n",
        "  if key == 'conferences':\n",
        "    for conference in team_id_resp['conferences']:  \n",
        "        for item in conference:\n",
        "          if item == 'divisions':\n",
        "            for division in conference['divisions']:\n",
        "                for team in division['teams']:\n",
        "                    team_ids.append({\n",
        "                        'team_id' : team['id'],\n",
        "                        'team_market' : team['market'],\n",
        "                        'team_name' : team['name'],\n",
        "                        'sr_id' : team['sr_id']\n",
        "                    })\n",
        "\n",
        "# SportsRadar limits api calls to 1 per second.\n",
        "# To ensure the code below executes w/o error, wait 1 second\n",
        "time.sleep(1)\n",
        "\n",
        "# Get average point info by team and player\n",
        "for team_id in team_ids:\n",
        "   \n",
        "    t_name = team_id['team_market']+\" \"+team_id['team_name']\n",
        "    t_id = team_id['team_id']\n",
        "    \n",
        "    seas_stats = get_seas_json_resp(season_year, access_level, version, language_code, nba_season, format_var, your_api_key)\n",
        "    \n",
        "    # Get team stats for current season\n",
        "    seas_team_avgs.append({\n",
        "        'team': t_name,\n",
        "        'points_per_game': seas_stats['own_record']['average']['points'],\n",
        "        'three_pointers': seas_stats['own_record']['average']['three_points_made'],\n",
        "        'pts_off_turnovers': seas_stats['own_record']['average']['points_off_turnovers']\n",
        "    })\n",
        "    team_count += 1\n",
        "    \n",
        "    # Get player stats for each team in current season\n",
        "    for plyr in seas_stats['players']:\n",
        "        seas_plyr_avgs.append({\n",
        "            'team': t_name,\n",
        "            'player_name': plyr['full_name'],\n",
        "            'points_per_game': plyr['average']['points'],\n",
        "            'three_pointers': plyr['average']['three_points_made'],\n",
        "            'pts_off_turnovers': plyr['average']['points_off_turnovers']\n",
        "        })\n",
        "        plyr_count += 1\n",
        "\n",
        "    # Need to wait between loop executions\n",
        "    time.sleep(1)\n",
        "\n",
        "# Convert output from api calls into csv files for access at a later date\n",
        "# team info\n",
        "with open(f\"/content/{season_year}_season_team_averages.csv\", 'w') as seas_team_avgs_file:\n",
        "  seas_team_avgs_file.write('team,points_per_game,three_pointers,pts_off_turnovers\\n')\n",
        "  for item in seas_team_avgs:\n",
        "    line = item['team']+','+str(item['points_per_game'])+','+str(item['three_pointers'])+','+str(item['pts_off_turnovers'])+'\\n'\n",
        "    seas_team_avgs_file.write(line)\n",
        "\n",
        "# player info\n",
        "with open(f\"/content/{season_year}_season_player_averages.csv\", 'w') as seas_plyr_avgs_file:\n",
        "  seas_plyr_avgs_file.write('team,player_name,points_per_game,three_pointers,pts_off_turnovers\\n')\n",
        "  for item in seas_plyr_avgs:\n",
        "    line = item['team']+','+item['player_name']+','+str(item['points_per_game'])+','+str(item['three_pointers'])+','+str(item['pts_off_turnovers'])+'\\n'\n",
        "    seas_plyr_avgs_file.write(line)\n",
        "    \n",
        "print('Script returned %d total teams and %d total players.' %(team_count,plyr_count))"
      ]
    },
    {
      "cell_type": "markdown",
      "source": [
        "# Reddit Script"
      ],
      "metadata": {
        "id": "1HNvmuXhOwPt"
      }
    },
    {
      "cell_type": "code",
      "source": [
        "# Reddit API Calls\n",
        "\n",
        "client_auth = requests.auth.HTTPBasicAuth('[YOUR API KEY]','[YOUR API SECRET]')\n",
        "post_data = {'grant_type': 'password', 'username': '[username]', 'password': '[password]'}\n",
        "token_headers = {'User-Agent': 'DSCI511-Final-Project/v0.1 by jb4575'}\n",
        "token_response = requests.post('https://www.reddit.com/api/v1/access_token',\n",
        "                         auth = client_auth,\n",
        "                         data = post_data,\n",
        "                         headers = token_headers).json()\n",
        "token_response"
      ],
      "metadata": {
        "colab": {
          "base_uri": "https://localhost:8080/"
        },
        "id": "F3nJb9Keu6Ry",
        "outputId": "dd94c773-8122-4882-bd10-2a6ef7cb84fc"
      },
      "execution_count": null,
      "outputs": [
        {
          "output_type": "execute_result",
          "data": {
            "text/plain": [
              "{'access_token': '2288100762636-98YiM6cF5HSBsWP0hoLwv60YA7MIJg',\n",
              " 'token_type': 'bearer',\n",
              " 'expires_in': 86400,\n",
              " 'scope': '*'}"
            ]
          },
          "metadata": {},
          "execution_count": 42
        }
      ]
    },
    {
      "cell_type": "code",
      "source": [
        "def get_oauth_response(token_response, token_headers, after = '', count = 0):\n",
        "  \"\"\"Use Reddit API access_token to start returning actual data from Reddit via oauth API calls\"\"\"\n",
        "  \n",
        "  oauth_url = 'https://oauth.reddit.com/r/nba/search?q=flair_name%3A%22Index%20Thread%22&sort=new&limit=100&restrict_sr=1'\n",
        "  \n",
        "  if after != '':\n",
        "    oauth_url += f'&after={after}'\n",
        "  \n",
        "  if count != 0:\n",
        "    oauth_url += f'&count={str(count)}'\n",
        "  \n",
        "  oauth_headers = {'Authorization': f\"bearer {token_response['access_token']}\", 'User-Agent': token_headers['User-Agent']}\n",
        "  oauth_response = requests.get(oauth_url, \n",
        "                              headers = oauth_headers).json()\n",
        "\n",
        "  return oauth_response"
      ],
      "metadata": {
        "id": "RKp-XBNuJpsI"
      },
      "execution_count": null,
      "outputs": []
    },
    {
      "cell_type": "code",
      "source": [
        "def get_game_links(oauth_resp_child):\n",
        "  \"\"\"Get the list of game thread links so that they can later be used to get all comments related to a game in a single thread\"\"\"\n",
        "  \n",
        "  game_text = oauth_resp_child['data']['selftext']\n",
        "  game_list = game_text.split('\\n')\n",
        "\n",
        "  game_date = game_list[0][22:-2]\n",
        "  game_links = []\n",
        "  game_teams = []\n",
        "\n",
        "  for game in game_list:\n",
        "    try:\n",
        "      game_col = game.split('|')\n",
        "    \n",
        "      if game_col[2][:6] == '[Link]':\n",
        "        game_link = game_col[2]\n",
        "        game_link_slice = game_link[36:-1]\n",
        "        \n",
        "        game_links.append(game_link_slice)\n",
        "\n",
        "        away_team_slice = game_col[3].find(\"]\")\n",
        "        home_team_slice = game_col[5].find(\"]\")\n",
        "\n",
        "        away_team = game_col[3][1:away_team_slice]\n",
        "        home_team = game_col[5][1:home_team_slice]\n",
        "\n",
        "        game_teams.append(away_team+\" @ \"+home_team)\n",
        "\n",
        "    except IndexError:\n",
        "      continue\n",
        "\n",
        "  return game_date, game_teams, game_links"
      ],
      "metadata": {
        "id": "ArKDjaot0hKt"
      },
      "execution_count": null,
      "outputs": []
    },
    {
      "cell_type": "code",
      "source": [
        "def get_game_response(token_response, token_headers, game_link):\n",
        "  game_oauth_headers = {'Authorization': f\"bearer {token_response['access_token']}\", 'User-Agent': token_headers['User-Agent']}\n",
        "  game_oauth_response = requests.get(f'https://oauth.reddit.com/r/nba/{game_link}', \n",
        "                              headers = oauth_headers).json()\n",
        "  \n",
        "  return game_oauth_response[1] # index = 1 gets comment info.  index = 0 gets post info"
      ],
      "metadata": {
        "id": "8i19m2YUURuC"
      },
      "execution_count": null,
      "outputs": []
    },
    {
      "cell_type": "code",
      "source": [
        "def get_comment_data(response):\n",
        "  if response.get('data') != None:\n",
        "    return response['data']\n",
        "\n",
        "def get_comment_children(response):\n",
        "  if response.get('children') != None:\n",
        "    return response['children']\n",
        "\n",
        "def get_comment_replies(response):\n",
        "  if response.get('replies') != None:\n",
        "    return response['replies']\n",
        "\n",
        "def get_comment_body(response):\n",
        "  if response.get('body') != None:\n",
        "    return response['body']\n",
        "\n",
        "def get_comment_text(response, comment_list):\n",
        "  data_check = None\n",
        "  children_check = None\n",
        "  replies_check = None \n",
        "  body_check = None\n",
        "  \n",
        "  if type(response) == dict:\n",
        "    data_check = get_comment_data(response)\n",
        "    children_check = get_comment_children(response)\n",
        "    replies_check = get_comment_replies(response)\n",
        "    body_check = get_comment_body(response)\n",
        "\n",
        "  if body_check != None:\n",
        "    comment_list.append(body_check)\n",
        "  \n",
        "  if replies_check != None:\n",
        "    return get_comment_text(replies_check, comment_list)\n",
        "  elif children_check != None:\n",
        "    return get_comment_text(children_check, comment_list)\n",
        "  elif data_check != None:\n",
        "    return get_comment_text(data_check, comment_list)\n",
        "  elif type(response) == list:\n",
        "    for item in response:\n",
        "      get_comment_text(item, comment_list)"
      ],
      "metadata": {
        "id": "5KyXOkfyEi-T"
      },
      "execution_count": null,
      "outputs": []
    },
    {
      "cell_type": "code",
      "source": [
        "oauth_response = get_oauth_response(token_response, token_headers)\n",
        "\n",
        "with open('/content/NBA_subreddit_matchup_discussions.csv', 'w') as matchups:\n",
        "  matchup_writer = csv.writer(matchups, delimiter=',', quotechar='\"', quoting=csv.QUOTE_ALL)\n",
        "  matchup_writer.writerow(['date', 'matchup', 'thread_link', 'thread_comments'])\n",
        "\n",
        "  for child in oauth_response['data']['children']:\n",
        "    game_date, game_teams, game_links = get_game_links(child)\n",
        "\n",
        "    for i in range(len(game_teams)):\n",
        "\n",
        "      time.sleep(1)\n",
        "\n",
        "      comment_list = []\n",
        "      game_response = get_game_response(token_response, token_headers, game_links[i])\n",
        "      get_comment_text(game_response, comment_list)\n",
        "\n",
        "      matchup_writer.writerow([game_date, game_teams[i], game_links[i], comment_list]) \n",
        "          "
      ],
      "metadata": {
        "id": "259Bl07vF_cE"
      },
      "execution_count": null,
      "outputs": []
    },
    {
      "cell_type": "code",
      "source": [],
      "metadata": {
        "colab": {
          "base_uri": "https://localhost:8080/"
        },
        "id": "ZXZChZypPaCU",
        "outputId": "2c36b58a-72ec-4dad-9cd6-2ee7880bc3d6"
      },
      "execution_count": null,
      "outputs": [
        {
          "output_type": "stream",
          "name": "stdout",
          "text": [
            "python3: can't open file '‐‐version': [Errno 2] No such file or directory\n"
          ]
        }
      ]
    }
  ]
}